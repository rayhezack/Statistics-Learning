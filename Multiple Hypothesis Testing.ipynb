{
 "cells": [
  {
   "cell_type": "markdown",
   "id": "4312ecf1",
   "metadata": {},
   "source": [
    "$$\\text{Multiple Hypothesis Testing}$$"
   ]
  },
  {
   "cell_type": "markdown",
   "id": "c1f56132",
   "metadata": {},
   "source": [
    "**What is P-hacking?**\n",
    "\n",
    "If we conducted multiple hypothesis tests but just report one with the smallest p-value, the multiple comparisons problem is called *p-hacking.* When there are multiple tests, and we choose the lowest p-value, our estimates of the p-value and the effect size are likely to be biased.\n",
    "\n",
    "如果我们开展多次假设性检验但是仅仅报道哪些P值最小的试验结果，这种试验比较被称作p-hacking。在该背景下，试验结果对于p值的估计以及effect size很有可能存在误差。而p-hacking就出现于multiple hypothesis testing的情景下。\n",
    "\n",
    "#### What is Multiple Hypothesis Testing?\n",
    "\n",
    "If we compute 100 metrics for our experiment, how many metircs would you see as statistically significant even if our feature does nothing? With the significance level at 5%, the anwer is around five. The problem worsens when examing hundreds of experiments and multiple iterations per experiment. When testing multiple things in parallel, the number of false discoveries increases. **This is called the \"multiple testing\" problem.**\n",
    "\n",
    "Therefore, we need to look at two types of errors when conducting multiple hypothesis testing:\n",
    "\n",
    "- **Type I error** refers to that we reject the null hypothesis when there is actually no effect.\n",
    "- **Type II error** refers to that we fail to reject the null hypothesis when there is actual effect.\n",
    "\n",
    "\n",
    "\n",
    "**When to conduct multiple hypothesis testing?**\n",
    "\n",
    "Multiple hypothesis testing can be manifested in the following ways:\n",
    "\n",
    "- Looking at multiple metrics.\n",
    "- Looking at p-values across time.\n",
    "- Looking at segments of the population.\n",
    "- Looking at multiple iterations of an experiment.\n",
    "  - For example, if an experiment truly does nothing, running it 20 time may result in a p-value smaller than 0.05 by chance."
   ]
  },
  {
   "cell_type": "markdown",
   "id": "4d698e4a",
   "metadata": {},
   "source": [
    "#### How to deal with multiple testing problem?\n",
    "\n",
    "There are two ways to deal with multiple testing problem:\n",
    "\n",
    "- Bonferroni Correction\n",
    "- Benjamini-Hochberg"
   ]
  },
  {
   "cell_type": "markdown",
   "id": "204ec5c7",
   "metadata": {},
   "source": [
    "##### Bonferroni Correction\n",
    "\n",
    "The conservative Bonferroni correction suggests that the p value threshold for each test should be equal to its alpha level divided by the number of tests performed.\n",
    "\n",
    "$$\\alpha_{\\text{Bonferroni}} = \\frac{\\alpha}{n}$$\n",
    "\n",
    "- alpha is the specified significance level, usually set to 0.05\n",
    "- n is the number of tests performed\n",
    "\n",
    "For example, if we perform 100 tests at $\\alpha=0.05$, the adjusted signigicance level is: $0.05 \\div 100 = 0.0005$.\n",
    "\n",
    "$P(\\text{at least one significant}) = 1 - P(\\text{no significance})\\\\\n",
    " = 1 - (1-0.0005)^{50} \\\\\n",
    " = 0.024$"
   ]
  },
  {
   "cell_type": "markdown",
   "id": "7abbe189",
   "metadata": {},
   "source": [
    "##### Benjamini-Hochberg\n",
    "\n",
    "Benjamini-Hochberg procedure uses varying p-value thresholds for different tests, and it is complex and less accessible.\n",
    "\n",
    "A simple two-step rule-of-thumb:\n",
    "\n",
    "1. Separate all metrics into three groups\n",
    "   - First-order metrics: those you expect to be impacted by the experiment\n",
    "   - Second-order metrics: those potentially to be impacted by the experiment\n",
    "   - Third-order metrics: those unlikely ton be impacted.\n",
    "2. Applied tiered significance levels to each group (e.g., 0.05, 0.01 and 0.001 respectively).\n",
    "\n",
    "These rules-of-thumb are based on an interesting Bayesian interpretation: How much do you believe the Null hypothesis (H0) is true before you even run the experiment? The stronger the belief, the lower the significance level you should use."
   ]
  },
  {
   "cell_type": "markdown",
   "id": "6d48de06",
   "metadata": {},
   "source": [
    "#### When not to use multiple hypothesis tetsing corrections?\n",
    "\n",
    "The p-value correction aims to reduce the number of false discoveries. However, the smaller p-value also increases the type two error rate, meaning that we may fail to reject a number of tests. Hence we will have more false negatives. If false negatives are very expensive or important, we should avoid correcting p-value during multiple hypothesis testing."
   ]
  },
  {
   "cell_type": "markdown",
   "id": "b33d88a3",
   "metadata": {},
   "source": [
    "#### Lab"
   ]
  },
  {
   "cell_type": "code",
   "execution_count": 14,
   "id": "7e901a2b",
   "metadata": {},
   "outputs": [
    {
     "name": "stdout",
     "output_type": "stream",
     "text": [
      "Significant Results Number: 43\n",
      "Significant Results Number after Bonferroni Correction: 0\n"
     ]
    }
   ],
   "source": [
    "import numpy as np\n",
    "import pandas as pd\n",
    "from scipy.stats import norm\n",
    "from statsmodels.stats.multitest import multipletests\n",
    "\n",
    "# make 1000 randon variates\n",
    "rand_nums = norm.rvs(loc=0,scale=1,size=1000)\n",
    "\n",
    "# calculate the p value for the 1000 random variates\n",
    "pvals = 1- norm.cdf(rand_nums)\n",
    "\n",
    "# calculate the number of tests with significant res\n",
    "alpha = 0.05\n",
    "sig_nums = sum(pvals<alpha)\n",
    "print(f\"Significant Results Number: {sig_nums}\")\n",
    "\n",
    "# now we correct the p value using bonferrroni method\n",
    "alpha /= 1000\n",
    "sig_nums = sum(pvals<alpha)\n",
    "print(f\"Significant Results Number after Bonferroni Correction: {sig_nums}\")"
   ]
  }
 ],
 "metadata": {
  "kernelspec": {
   "display_name": "Python 3",
   "language": "python",
   "name": "python3"
  },
  "language_info": {
   "codemirror_mode": {
    "name": "ipython",
    "version": 3
   },
   "file_extension": ".py",
   "mimetype": "text/x-python",
   "name": "python",
   "nbconvert_exporter": "python",
   "pygments_lexer": "ipython3",
   "version": "3.8.2"
  },
  "toc": {
   "base_numbering": 1,
   "nav_menu": {},
   "number_sections": true,
   "sideBar": true,
   "skip_h1_title": false,
   "title_cell": "Table of Contents",
   "title_sidebar": "Contents",
   "toc_cell": false,
   "toc_position": {},
   "toc_section_display": true,
   "toc_window_display": false
  }
 },
 "nbformat": 4,
 "nbformat_minor": 5
}
