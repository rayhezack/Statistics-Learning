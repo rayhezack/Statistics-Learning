{
 "cells": [
  {
   "cell_type": "markdown",
   "id": "a97072ab",
   "metadata": {},
   "source": [
    "$$\\text{Power Analysis}$$\n",
    "\n",
    "在该篇文章中，主要介绍与Power Analysis相关的内容，主要包括：\n",
    "- Hypothesis Testing\n",
    "- Statistical Power\n",
    "- Power Analysis"
   ]
  },
  {
   "cell_type": "markdown",
   "id": "44450dd4",
   "metadata": {},
   "source": [
    "###  Hypothesis Testing\n",
    "\n",
    "假设行检验是一种inferential statistics，在该统计分析中分析师需要借用样本数据评估关于总体假设的有效性。假设行检验中的核心概念包括：**P值、置信区间、显著性水平、以及Type I Error和Type II Error。**\n",
    "\n",
    "**How Hypothesis Testing Works?**\n",
    "\n",
    "假设性检验的运行主要由以下步骤构成：\n",
    "- 提出愿假设和备择假设。\n",
    "- 制定分析计划。 我们需要根据分析目标判定什么统计检测方法更加适用。例如，如果我们想要对比美国的男性和中国的男性之间身高是否具有显著性差异，则我们可以对两国的男性随机抽样然后将两个群体的升高均值进行对比。这时，双样本T检验就非常适合该场景。\n",
    "- 检查统计检测预先规定的假设。 仍然以T检验为例，如果要实行T检验，我们需要检测以下假设：\n",
    "    - **Independence:** Observations in one sample should be independent of observations in another sample\n",
    "    - **Normality:** Both samples are approximately normally distributed.\n",
    "    - **Homogeneity of Variances:** Both samples have approximately the same variance.\n",
    "    - **Random Sampling:** Both samples were obtained using a random sampling method.\n",
    "- 计算统计指标做决策。\n",
    "\n",
    "**What is P value?**\n",
    "\n",
    "p值是在给定的愿假设成立的前提下，我们能够得到该实验结果或者更加极端的实验结果的概率。\n",
    "\n",
    "在解释P值的时候，我们需要考虑预先设定的显著性水平$\\alpha$，通常被设定为0.05.\n",
    "\n",
    "**What are Two types of Errors?**\n",
    "\n",
    "- **Type I Error:** 第一类型错误又称为False Positive，具体含义是指research effect不存在的情况下，我们拒绝了一个本身正确的原假设。\n",
    "- **Type II Error:** 第二类型错误又称为False Negative，具体含义是指存在真实的research effect的情况下，我们没有拒绝错误的原假设。\n",
    "\n",
    "**What is the relationship between significance level and two types of error?**\n",
    "\n",
    "显著性水平是我们提前设定用来与P值进行对比从而判断是否接受原假设的一个决策边界。如果显著性水平越高，则拒绝域会越宽，则出现第一类型错误的概率就会越大，因为在不存在真实的research effect的前提下我们更容易拒绝原假设。相反，如果显著性水平越低，则拒绝域会越窄，则出现第二类型错误的概率越大，因为在存在真实的research effect的前提下我们更容易接受原假设。其次，如果显著水平更低，则我们具备更多的statistical power。"
   ]
  },
  {
   "cell_type": "markdown",
   "id": "d25c4850",
   "metadata": {},
   "source": [
    "### Statistical Power\n",
    "\n",
    "**What is Power?**\n",
    "\n",
    "The power of a hypothesis test is the probability that we detect the effect given that the effect is true. In other words, it is the probability of rejecting the null hypothesis when the hypothesis is incorrect.\n",
    "\n",
    "For example, let's say that we have a simple study with drug group and placebo group and that the drug is effective. So the power is the probability that we observe the mean difference between the two groups. Say we we set a power of 0.8 and we conducted the experiment a lot of times. Then 0.8 means 80% of time, we can detect the statistically significant mean difference between the two groups and the other 20% of the time, we cannot detect the difference.\n",
    "\n",
    "***Note: 为方便中文面试提供的中文版本***\n",
    "\n",
    "(假设性检验的统计力量是指在research effect为真的情况下，我们能够观测到实验结果的概率。换句话说，Power是存在research effect的前提下我们拒绝原假设的概率。例如，如果我们想要研究某个药物的效果，随机抽取了两个样本群体，一个群体接受研究药物，另外一个群体接受普通的药剂。假设药物有效的前提下，Power是指我们能够观测到两个研究群体出现显著差异的概率。例如如果我们在开展实验前设定0.8的statistical power并且进行多次实验，则会有80%的实验能够观测到两个groups出现显著性差异，另外20%的时间我们不能观测到显著差异。)\n",
    "\n",
    "In addition, statistical power is inversely related to Type II Error: the higher the statistical power for a given experiment, the lower of the probability of making a Type II Error.\n",
    "\n",
    "$$\\text{Statistical Power} = 1 - \\text{Type II Error}$$\n",
    "\n",
    "Hence, we summarize the relation between *Statistical Power* and *Type II Error* as follows:\n",
    "\n",
    "- Given a false null hypothesis, higher statistical power represents lower risk of type II error.\n",
    "- Given a false null hypothesis, lower statistical power represents higher risk of type II error.\n",
    "\n",
    "The rule of thumb is that we set the power of 80%-90% for an experiment, meaning that 20% of probability of encountering *Type II Error.*"
   ]
  },
  {
   "cell_type": "markdown",
   "id": "b3c9afe1",
   "metadata": {},
   "source": [
    "**Why we do a power analysis?**\n",
    "\n",
    "- **Determine the Sample Size.**\n",
    "- **Determine power:** Power analysis can be used to determine the power given an effect size and the number of subjects available. For example, we may know that only 75 subjects are available and we want to determine if we have enough power to justify conducting the experiment. Power anaysis can help us to evaluate the validity of the study and sometimes it is pointless to do a underpowered study.\n",
    "\n"
   ]
  },
  {
   "cell_type": "markdown",
   "id": "5b5158fe",
   "metadata": {},
   "source": [
    "### Power Analysis\n",
    "\n",
    "Before performing the power analysis, we might need to understand some conceptions with respect to power analysis.\n",
    "\n",
    "**Effect Size:** The quantified magnitude of the relationship between two variants on a numerica scale. Fot instance, If we have data on the height of men and women and we notice that, on average, men are taller than women, the difference between the height of men and the height of women is known as the effect size.\n",
    "\n",
    "**Effect Size for T-Test**\n",
    "\n",
    "Cohen refers to the standardized mean difference between two groups of independent observations for the sample as ds which is given by:\n",
    "\n",
    "$$\\text{Cohend's d} = \\frac{\\bar{X}_1 -\\bar{X}_2 }{\\sqrt{\\frac{(n_1-1)s_1^2 + (n_2-1)s_2^2}{n_1+n_2}}}\n",
    "$$\n",
    "\n",
    "On ther other hand, we will instead use **Hedge's g** if the two groups have small sample sizes.\n",
    "\n",
    "$$\\text{Hedge's g} = \\frac{\\bar{X}_1 -\\bar{X}_2 }{\\sqrt{\\frac{(n_1-1)s_1^2 + (n_2-1)s_2^2}{n_1+n_2-2}}}$$\n",
    "\n",
    "> Both Cohen's d and Hedges' g pool variances on the assumption of equal population variances, but g pools using n - 1 for each sample instead of n, which provides a better estimate, especially the smaller the sample sizes. Both d and g are somewhat positively biased, but only negligibly for moderate or larger sample sizes. The bias is reduced using g*. The d by Glass does not assume equal variances, so it uses the sd of a control group or baseline comparison group as the standardizer for the difference between the two means.\n",
    "\n",
    "**What is Power Analysis?**\n",
    "\n",
    "Effect size, sample size, significance level, and statistical power are related to each other. Power Analysis is used to determine the one of the four values given the three other parameters. For instance, power analysis can determine the sample size given the effect size.x\n",
    "\n",
    "> Power analysis answers questions like “how much statistical power does my study have?” and “how big a sample size do I need?”.\n",
    "\n",
    "> Power analyses are normally run before a study is conducted. A prospective or a priori power analysis can be used to estimate any one of the four power parameters but is most often used to estimate required sample sizes.\n",
    "\n"
   ]
  },
  {
   "cell_type": "markdown",
   "id": "da258b92",
   "metadata": {},
   "source": [
    "### Student's T test Power Analysis\n",
    "\n",
    "Now let's begin to learn how to do the student's T test power analysis. T test is a kind of parametric inferential statistics test for comparing the means from two samples of normal variables.\n",
    "\n",
    "Let's specify the **significance level** as 0.05, **Effect Size** as 0.5, **Statistical Power** as 0.8. Given the three values, we may be interested in estimating how large our sample size should be. In other words, how many samples should I have to obtain 80% of statistical power. **This is power analysis comes in.**\n",
    "\n",
    "To implement the power analysis, we will rely on `TTestIndPower` function in StatsModels Package.\n",
    "\n",
    "`TTestIndPower.solve_power()`\n",
    "\n",
    "This function solve for any one parameter of the power of a two sample t-test. Its key paraemters are:\n",
    "\n",
    "- `effect_size:` standardized effect size, such as Cohend's d, difference between the two means divided by the standard deviation. effect_size has to be positive.\n",
    "- `nobs1:` number of observations of sample 1. The number of observations of sample two is ratio times the size of sample 1, i.e. nobs2 = nobs1 * ratio\n",
    "- `alpha:` significance level, e.g. 0.05, is the probability of a type I error, that is wrong rejections if the Null Hypothesis is true.\n",
    "- `ratio:` ratio of the number of observations in sample 2 relative to sample 1. see description of nobs1 The default for ratio is 1; to solve for ratio given the other arguments it has to be explicitly set to None.\n",
    "- `alternative:`  ‘two-sided’ (default), ‘larger’, ‘smaller’"
   ]
  },
  {
   "cell_type": "code",
   "execution_count": 3,
   "id": "26ee235d",
   "metadata": {},
   "outputs": [
    {
     "name": "stdout",
     "output_type": "stream",
     "text": [
      "Sample Size: 63.766\n"
     ]
    }
   ],
   "source": [
    "import pandas as pd\n",
    "import numpy as np\n",
    "from statsmodels.stats.power import TTestIndPower\n",
    "\n",
    "power_analysis = TTestIndPower()\n",
    "# specify the effec size, alpha, and power\n",
    "effect = 0.5\n",
    "alpha = 0.05\n",
    "power = 0.8\n",
    "# plug these parameters into the function\n",
    "result = power_analysis.solve_power(effect_size=effect,power=power,alpha=alpha,\n",
    "                                   nobs1=None,ratio=1.0) \n",
    "print(\"Sample Size: %.3f\" % result)"
   ]
  },
  {
   "cell_type": "markdown",
   "id": "39792d36",
   "metadata": {},
   "source": [
    "Plot power with number of observations or effect size on x-axis. By this function, we can observe the change in power with different sample sizes or effect sizes."
   ]
  },
  {
   "cell_type": "code",
   "execution_count": 4,
   "id": "7217d9a1",
   "metadata": {},
   "outputs": [
    {
     "data": {
      "image/png": "[encoded data removed]",
      "text/plain": [
       "<Figure size 432x288 with 1 Axes>"
      ]
     },
     "metadata": {
      "needs_background": "light"
     },
     "output_type": "display_data"
    }
   ],
   "source": [
    "# calculate power curves for varying sample and effect size\n",
    "from numpy import array\n",
    "from matplotlib import pyplot\n",
    "from statsmodels.stats.power import TTestIndPower\n",
    "# parameters for power analysis\n",
    "effect_sizes = array([0.2, 0.5, 0.8])\n",
    "sample_sizes = array(range(5, 100))\n",
    "# calculate power curves from multiple power analyses\n",
    "analysis = TTestIndPower()\n",
    "analysis.plot_power(dep_var='nobs', nobs=sample_sizes, effect_size=effect_sizes)\n",
    "pyplot.show()"
   ]
  }
 ],
 "metadata": {
  "kernelspec": {
   "display_name": "Python 3",
   "language": "python",
   "name": "python3"
  },
  "language_info": {
   "codemirror_mode": {
    "name": "ipython",
    "version": 3
   },
   "file_extension": ".py",
   "mimetype": "text/x-python",
   "name": "python",
   "nbconvert_exporter": "python",
   "pygments_lexer": "ipython3",
   "version": "3.8.2"
  },
  "toc": {
   "base_numbering": 1,
   "nav_menu": {},
   "number_sections": true,
   "sideBar": true,
   "skip_h1_title": false,
   "title_cell": "Table of Contents",
   "title_sidebar": "Contents",
   "toc_cell": false,
   "toc_position": {},
   "toc_section_display": true,
   "toc_window_display": false
  }
 },
 "nbformat": 4,
 "nbformat_minor": 5
}
